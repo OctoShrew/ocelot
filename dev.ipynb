{
 "cells": [
  {
   "cell_type": "code",
   "execution_count": 110,
   "metadata": {},
   "outputs": [
    {
     "name": "stderr",
     "output_type": "stream",
     "text": [
      "[nltk_data] Downloading package punkt to\n",
      "[nltk_data]     /Users/felixquinque/nltk_data...\n",
      "[nltk_data]   Package punkt is already up-to-date!\n",
      "[nltk_data] Downloading package stopwords to\n",
      "[nltk_data]     /Users/felixquinque/nltk_data...\n",
      "[nltk_data]   Package stopwords is already up-to-date!\n"
     ]
    }
   ],
   "source": [
    "import string\n",
    "import nltk\n",
    "import re\n",
    "nltk.download(\"punkt\")\n",
    "nltk.download(\"stopwords\")\n",
    "from nltk.corpus import stopwords\n",
    "stopwords = stopwords.words('english')"
   ]
  },
  {
   "cell_type": "code",
   "execution_count": null,
   "metadata": {},
   "outputs": [],
   "source": []
  },
  {
   "cell_type": "code",
   "execution_count": 111,
   "metadata": {},
   "outputs": [],
   "source": [
    "test_str = \"This is some test sentence to test the function with! And here we have a suprising feature: a colon.\"\n",
    "test_str = \"Now something else!?!? What a shock!!\""
   ]
  },
  {
   "cell_type": "code",
   "execution_count": 112,
   "metadata": {},
   "outputs": [],
   "source": [
    "def process_text(text: str, remove_punctuation: bool = False, \n",
    "                 remove_stopword: bool = False, remove_text_brackets: bool = False) -> (list,list[tuple]):\n",
    "    \"\"\"\n",
    "    This is a utility function for cleaning up text quickly for NLP.\n",
    "    \n",
    "    text (str):                     takes in some text that is processed\n",
    "    remove_punctuation (bool):      remove punctuation from the text\n",
    "    remove_stopword (bool):         remove stopwords from the text\n",
    "    remove_text_brackets (bool):    remove the text inbetween brackets\n",
    "    \n",
    "    \n",
    "    returns two variables, the first one corresponds to the words in the sentence, the second contains words as \n",
    "    well as postags.\n",
    "       \n",
    "    [[word1sent1, word2sent1, word3sent1], [word1sent2, word2sent2, word3sent2]], \n",
    "    [[(word1sent1, tag1sent1, word2sent1, tag1sent1)], [word1sent2, tag1sent2, word2sent2, tag2sent2]]\n",
    "    \n",
    "    \"\"\"\n",
    "    if remove_text_brackets:\n",
    "        text = re.sub(\"[\\(\\[].*?[\\)\\]]\", \"\", text)\n",
    "    sentences: list = nltk.sent_tokenize(text) # split the text into sentences\n",
    "    if remove_punctuation: # remove punctuation\n",
    "        sentences = [s.translate(str.maketrans('', '', string.punctuation)) for s in sentences] # remove punctuation\n",
    "    l: list = [nltk.word_tokenize(s) for s in sentences] # split sentences into lists of words\n",
    "    ln: list = []\n",
    "    tags: list = []\n",
    "    for s in l:\n",
    "        temp_tags = nltk.pos_tag(s)\n",
    "        ln.append([])\n",
    "        tags.append([])\n",
    "        for w,t in zip(s,temp_tags):\n",
    "            if remove_stopword:\n",
    "                if w not in stopwords:\n",
    "                    ln[-1].append(w)\n",
    "                    tags[-1].append(t)\n",
    "            else:\n",
    "                ln[-1].append(w)\n",
    "                tags[-1].append(t)\n",
    "\n",
    "    l = ln\n",
    "    # if output == \"str\":\n",
    "    #     out = [\" \".join([w for s in l for w in s])][0]\n",
    "    return [sent for sent in l if len(sent) >0], [tag for tag in tags if len(tag) >0]\n",
    "    \n",
    "def process_text_to_str(text: str, remove_punctuation: bool = False, \n",
    "                        remove_stopword: bool = False, remove_text_brackets: bool = False) -> str:\n",
    "    \"\"\"\n",
    "    \n",
    "    This is a utility function for cleaning up text quickly for NLP. It returns a cleaned string.\n",
    "    \n",
    "    text (str):                     takes in some text that is processed\n",
    "    remove_punctuation (bool):      remove punctuation from the text\n",
    "    remove_stopword (bool):         remove stopwords from the text\n",
    "    remove_text_brackets (bool):    remove the text inbetween brackets\n",
    "    \n",
    "    returns a string with cleaned text\n",
    "    \"\"\"\n",
    "    text, tags = process_text(text, remove_punctuation=remove_punctuation, remove_stopword=remove_stopword)\n",
    "    return \" \".join([w for s in text for w in s])"
   ]
  },
  {
   "cell_type": "code",
   "execution_count": 113,
   "metadata": {},
   "outputs": [
    {
     "name": "stdout",
     "output_type": "stream",
     "text": [
      "[['Now', 'something', 'else'], ['What', 'shock']]\n",
      "[[('Now', 'RB'), ('something', 'NN'), ('else', 'RB')], [('What', 'WP'), ('shock', 'NN')]]\n"
     ]
    }
   ],
   "source": [
    "text, tags = process_text(test_str, remove_punctuation=True, remove_stopword=True, remove_text_brackets=True)\n",
    "print(text)\n",
    "print(tags)"
   ]
  },
  {
   "cell_type": "code",
   "execution_count": 104,
   "metadata": {},
   "outputs": [
    {
     "data": {
      "text/plain": [
       "'Now something else ! ? ! ? What a shock ! !'"
      ]
     },
     "execution_count": 104,
     "metadata": {},
     "output_type": "execute_result"
    }
   ],
   "source": [
    "process_text_to_str(test_str)"
   ]
  },
  {
   "cell_type": "code",
   "execution_count": null,
   "metadata": {},
   "outputs": [],
   "source": []
  }
 ],
 "metadata": {
  "kernelspec": {
   "display_name": "Python 3.9.12 64-bit",
   "language": "python",
   "name": "python3"
  },
  "language_info": {
   "codemirror_mode": {
    "name": "ipython",
    "version": 3
   },
   "file_extension": ".py",
   "mimetype": "text/x-python",
   "name": "python",
   "nbconvert_exporter": "python",
   "pygments_lexer": "ipython3",
   "version": "3.9.12"
  },
  "orig_nbformat": 4,
  "vscode": {
   "interpreter": {
    "hash": "b0fa6594d8f4cbf19f97940f81e996739fb7646882a419484c72d19e05852a7e"
   }
  }
 },
 "nbformat": 4,
 "nbformat_minor": 2
}
