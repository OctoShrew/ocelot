{
 "cells": [
  {
   "cell_type": "code",
   "execution_count": 1,
   "metadata": {},
   "outputs": [
    {
     "name": "stderr",
     "output_type": "stream",
     "text": [
      "[nltk_data] Downloading package punkt to\n",
      "[nltk_data]     /Users/felixquinque/nltk_data...\n",
      "[nltk_data]   Package punkt is already up-to-date!\n",
      "[nltk_data] Downloading package stopwords to\n",
      "[nltk_data]     /Users/felixquinque/nltk_data...\n",
      "[nltk_data]   Package stopwords is already up-to-date!\n"
     ]
    }
   ],
   "source": [
    "from nlp_utils import *"
   ]
  },
  {
   "cell_type": "code",
   "execution_count": 5,
   "metadata": {},
   "outputs": [
    {
     "name": "stdout",
     "output_type": "stream",
     "text": [
      "[['This', 'example', 'text'], ['It', 'punctuation', 'irrelevant', 'text', 'brackets', 'includes', 'plenty', 'stopwords']]\n",
      "[[('This', 'DT'), ('example', 'NN'), ('text', 'NN')], [('It', 'PRP'), ('punctuation', 'NN'), ('irrelevant', 'JJ'), ('text', 'NN'), ('brackets', 'NNS'), ('includes', 'VBZ'), ('plenty', 'NN'), ('stopwords', 'NNS')]]\n",
      "This example text It punctuation irrelevant text brackets includes plenty stopwords\n"
     ]
    }
   ],
   "source": [
    "example =   \"\"\"   \n",
    "                This is some example text. It has punctuation, \n",
    "                some irrelevant text in brackets (here it is) \n",
    "                and it includes plenty of stopwords!!!\n",
    "            \"\"\"\n",
    "\n",
    "processed_text, tags = process_text(example, remove_punctuation=True, remove_stopword=True, \n",
    "                                    remove_text_brackets=True)\n",
    "print(text)\n",
    "print(tags)\n",
    "\n",
    "processed_string = process_text_to_str(example, remove_punctuation=True, remove_stopword=True, \n",
    "                                       remove_text_brackets=True)\n",
    "print(processed_string)"
   ]
  }
 ],
 "metadata": {
  "kernelspec": {
   "display_name": "Python 3.9.12 64-bit",
   "language": "python",
   "name": "python3"
  },
  "language_info": {
   "codemirror_mode": {
    "name": "ipython",
    "version": 3
   },
   "file_extension": ".py",
   "mimetype": "text/x-python",
   "name": "python",
   "nbconvert_exporter": "python",
   "pygments_lexer": "ipython3",
   "version": "3.9.12"
  },
  "orig_nbformat": 4,
  "vscode": {
   "interpreter": {
    "hash": "b0fa6594d8f4cbf19f97940f81e996739fb7646882a419484c72d19e05852a7e"
   }
  }
 },
 "nbformat": 4,
 "nbformat_minor": 2
}
